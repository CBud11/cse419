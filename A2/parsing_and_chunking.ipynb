{
  "nbformat": 4,
  "nbformat_minor": 0,
  "metadata": {
    "colab": {
      "provenance": []
    },
    "kernelspec": {
      "name": "python3",
      "display_name": "Python 3"
    },
    "language_info": {
      "name": "python"
    }
  },
  "cells": [
    {
      "cell_type": "markdown",
      "source": [
        "**Name:** Chaitanya Bhude\n",
        "\n",
        "**Reg No:** 21BAI1445\n",
        "\n",
        "**Topic:** Parsing and Chunking"
      ],
      "metadata": {
        "id": "pIb9xMHOHMrx"
      }
    },
    {
      "cell_type": "code",
      "source": [
        "!pip install nltk\n",
        "import nltk\n",
        "nltk.download('punkt')\n",
        "nltk.download('averaged_perceptron_tagger')\n",
        "nltk.download('maxent_ne_chunker')\n",
        "nltk.download('words')\n"
      ],
      "metadata": {
        "colab": {
          "base_uri": "https://localhost:8080/"
        },
        "id": "MsV6AOdEAisS",
        "outputId": "6e50f806-eabd-483f-c6cf-2938d5189510"
      },
      "execution_count": null,
      "outputs": [
        {
          "output_type": "stream",
          "name": "stdout",
          "text": [
            "Requirement already satisfied: nltk in /usr/local/lib/python3.10/dist-packages (3.8.1)\n",
            "Requirement already satisfied: click in /usr/local/lib/python3.10/dist-packages (from nltk) (8.1.7)\n",
            "Requirement already satisfied: joblib in /usr/local/lib/python3.10/dist-packages (from nltk) (1.4.2)\n",
            "Requirement already satisfied: regex>=2021.8.3 in /usr/local/lib/python3.10/dist-packages (from nltk) (2024.5.15)\n",
            "Requirement already satisfied: tqdm in /usr/local/lib/python3.10/dist-packages (from nltk) (4.66.5)\n"
          ]
        },
        {
          "output_type": "stream",
          "name": "stderr",
          "text": [
            "[nltk_data] Downloading package punkt to /root/nltk_data...\n",
            "[nltk_data]   Unzipping tokenizers/punkt.zip.\n",
            "[nltk_data] Downloading package averaged_perceptron_tagger to\n",
            "[nltk_data]     /root/nltk_data...\n",
            "[nltk_data]   Unzipping taggers/averaged_perceptron_tagger.zip.\n",
            "[nltk_data] Downloading package maxent_ne_chunker to\n",
            "[nltk_data]     /root/nltk_data...\n",
            "[nltk_data]   Unzipping chunkers/maxent_ne_chunker.zip.\n",
            "[nltk_data] Downloading package words to /root/nltk_data...\n",
            "[nltk_data]   Unzipping corpora/words.zip.\n"
          ]
        },
        {
          "output_type": "execute_result",
          "data": {
            "text/plain": [
              "True"
            ]
          },
          "metadata": {},
          "execution_count": 1
        }
      ]
    },
    {
      "cell_type": "code",
      "source": [
        "import pandas as pd\n",
        "import nltk\n",
        "from nltk import word_tokenize, pos_tag\n",
        "from nltk.chunk import RegexpParser\n",
        "\n",
        "def process_csv(csv_file_path):\n",
        "    df = pd.read_csv(csv_file_path)\n",
        "    corpus = df['Sentences'].tolist()\n",
        "    return corpus\n",
        "\n",
        "def parse_and_chunk(sentences):\n",
        "    grammar = \"\"\"\n",
        "    NP: {<DT>?<JJ>*<NN.*>}   # Noun Phrase\n",
        "    PP: {<IN><NP>}           # Prepositional Phrase\n",
        "    VP: {<VB.*><NP|PP|CLAUSE>+$}  # Verb Phrase\n",
        "    CLAUSE: {<NP><VP>}      # Clause\n",
        "    \"\"\"\n",
        "\n",
        "    # Create a chunk parser\n",
        "    cp = RegexpParser(grammar)\n",
        "\n",
        "    results = []\n",
        "    for sentence in sentences:\n",
        "        # Tokenize and tag parts of speech\n",
        "        tokens = word_tokenize(sentence)\n",
        "        tagged = pos_tag(tokens)\n",
        "\n",
        "        # Parse and chunk\n",
        "        parsed = cp.parse(tagged)\n",
        "\n",
        "        # Convert parsed result to a string for display\n",
        "        chunked_str = \"\\n\".join([str(subtree) for subtree in parsed])\n",
        "\n",
        "        # Append the result\n",
        "        results.append({\n",
        "            'sentence': sentence,\n",
        "            'parsed': parsed,\n",
        "            'chunked': chunked_str\n",
        "        })\n",
        "\n",
        "    return results\n",
        "\n",
        "csv_file_path = '/content/hai - Sheet1.csv'\n",
        "corpus = process_csv(csv_file_path)\n",
        "#print(corpus)\n",
        "\n",
        "results = parse_and_chunk(corpus)\n",
        "\n",
        "for result in results:\n",
        "    print(f\"Sentence: {result['sentence']}\")\n",
        "    print(\"Parsed:\")\n",
        "    print(result['parsed'])\n",
        "    print(\"\\nChunked:\")\n",
        "    print(result['chunked'])\n",
        "    print(\"-\" * 50)\n"
      ],
      "metadata": {
        "colab": {
          "base_uri": "https://localhost:8080/"
        },
        "id": "9XNAW9ZbB5Tw",
        "outputId": "ea1157fe-166e-439d-c458-cfa3ba691732"
      },
      "execution_count": null,
      "outputs": [
        {
          "output_type": "stream",
          "name": "stdout",
          "text": [
            "Sentence: The Sun is the largest celestial body in the solar system\n",
            "Parsed:\n",
            "(S\n",
            "  (NP The/DT Sun/NNP)\n",
            "  is/VBZ\n",
            "  the/DT\n",
            "  largest/JJS\n",
            "  (NP celestial/JJ body/NN)\n",
            "  (PP in/IN (NP the/DT solar/JJ system/NN)))\n",
            "\n",
            "Chunked:\n",
            "(NP The/DT Sun/NNP)\n",
            "('is', 'VBZ')\n",
            "('the', 'DT')\n",
            "('largest', 'JJS')\n",
            "(NP celestial/JJ body/NN)\n",
            "(PP in/IN (NP the/DT solar/JJ system/NN))\n",
            "--------------------------------------------------\n",
            "Sentence: The solar system consists of the Sun and eight revolving planets\n",
            "Parsed:\n",
            "(S\n",
            "  (NP The/DT solar/JJ system/NN)\n",
            "  consists/VBZ\n",
            "  (PP of/IN (NP the/DT Sun/NNP))\n",
            "  and/CC\n",
            "  eight/CD\n",
            "  (VP revolving/VBG (NP planets/NNS)))\n",
            "\n",
            "Chunked:\n",
            "(NP The/DT solar/JJ system/NN)\n",
            "('consists', 'VBZ')\n",
            "(PP of/IN (NP the/DT Sun/NNP))\n",
            "('and', 'CC')\n",
            "('eight', 'CD')\n",
            "(VP revolving/VBG (NP planets/NNS))\n",
            "--------------------------------------------------\n",
            "Sentence: Ra was the Egyptian Sun God\n",
            "Parsed:\n",
            "(S\n",
            "  (CLAUSE\n",
            "    (NP Ra/NNP)\n",
            "    (VP was/VBD (NP the/DT Egyptian/JJ Sun/NNP) (NP God/NNP))))\n",
            "\n",
            "Chunked:\n",
            "(CLAUSE\n",
            "  (NP Ra/NNP)\n",
            "  (VP was/VBD (NP the/DT Egyptian/JJ Sun/NNP) (NP God/NNP)))\n",
            "--------------------------------------------------\n",
            "Sentence: The Pyramids were the pinnacle of Egyptian architecture\n",
            "Parsed:\n",
            "(S\n",
            "  (CLAUSE\n",
            "    (NP The/DT Pyramids/NNP)\n",
            "    (VP\n",
            "      were/VBD\n",
            "      (NP the/DT pinnacle/NN)\n",
            "      (PP of/IN (NP Egyptian/JJ architecture/NN)))))\n",
            "\n",
            "Chunked:\n",
            "(CLAUSE\n",
            "  (NP The/DT Pyramids/NNP)\n",
            "  (VP\n",
            "    were/VBD\n",
            "    (NP the/DT pinnacle/NN)\n",
            "    (PP of/IN (NP Egyptian/JJ architecture/NN))))\n",
            "--------------------------------------------------\n",
            "Sentence: The quick brown fox jumps over the lazy dog\n",
            "Parsed:\n",
            "(S\n",
            "  (NP The/DT quick/JJ brown/NN)\n",
            "  (CLAUSE\n",
            "    (NP fox/NN)\n",
            "    (VP jumps/VBZ (PP over/IN (NP the/DT lazy/JJ dog/NN)))))\n",
            "\n",
            "Chunked:\n",
            "(NP The/DT quick/JJ brown/NN)\n",
            "(CLAUSE\n",
            "  (NP fox/NN)\n",
            "  (VP jumps/VBZ (PP over/IN (NP the/DT lazy/JJ dog/NN))))\n",
            "--------------------------------------------------\n"
          ]
        }
      ]
    },
    {
      "cell_type": "code",
      "source": [],
      "metadata": {
        "id": "dvcgxSaoFH8J"
      },
      "execution_count": null,
      "outputs": []
    }
  ]
}