{
  "nbformat": 4,
  "nbformat_minor": 0,
  "metadata": {
    "colab": {
      "provenance": []
    },
    "kernelspec": {
      "name": "python3",
      "display_name": "Python 3"
    },
    "language_info": {
      "name": "python"
    }
  },
  "cells": [
    {
      "cell_type": "markdown",
      "source": [
        "**Name:** Chaitanya Bhude\n",
        "\n",
        "**Reg No:** 21BAI1445\n",
        "\n",
        "Topic: Cosine Similarity"
      ],
      "metadata": {
        "id": "ENr1xkGnkNLl"
      }
    },
    {
      "cell_type": "code",
      "execution_count": null,
      "metadata": {
        "id": "mTfORrDAghbu"
      },
      "outputs": [],
      "source": [
        "import pandas as pd\n",
        "from sklearn.metrics.pairwise import cosine_similarity\n",
        "from sklearn.feature_extraction.text import TfidfVectorizer\n"
      ]
    },
    {
      "cell_type": "code",
      "source": [
        "import pandas as pd\n",
        "\n",
        "def process_csv(csv_file_path):\n",
        "  df = pd.read_csv(csv_file_path)\n",
        "  corpus = df['Sentences'].tolist()\n",
        "  return corpus\n",
        "\n",
        "corpus = process_csv('/content/hai - Sheet1.csv')\n",
        "print(corpus)"
      ],
      "metadata": {
        "colab": {
          "base_uri": "https://localhost:8080/"
        },
        "id": "8zeU_S0BjxgM",
        "outputId": "4d115cf4-c241-411a-ed11-4bfb6c980a5a"
      },
      "execution_count": null,
      "outputs": [
        {
          "output_type": "stream",
          "name": "stdout",
          "text": [
            "['The Sun is the largest celestial body in the solar system', 'The solar system consists of the Sun and eight revolving planets', 'Ra was the Egyptian Sun God', 'The Pyramids were the pinnacle of Egyptian architecture', 'The quick brown fox jumps over the lazy dog']\n"
          ]
        }
      ]
    },
    {
      "cell_type": "code",
      "source": [
        "tfidf=TfidfVectorizer()\n",
        "v=tfidf.fit_transform(corpus)\n",
        "cs=cosine_similarity(v[1],v[2])\n",
        "print(cs)"
      ],
      "metadata": {
        "colab": {
          "base_uri": "https://localhost:8080/"
        },
        "id": "7F6Vva3Uln40",
        "outputId": "b975592f-f03e-4b08-8011-7367471d705c"
      },
      "execution_count": null,
      "outputs": [
        {
          "output_type": "stream",
          "name": "stdout",
          "text": [
            "[[0.15054075]]\n"
          ]
        }
      ]
    },
    {
      "cell_type": "code",
      "source": [
        "tfidf=TfidfVectorizer()\n",
        "v=tfidf.fit_transform(corpus)\n",
        "cs=cosine_similarity(v[0],v[2])\n",
        "print(cs)"
      ],
      "metadata": {
        "colab": {
          "base_uri": "https://localhost:8080/"
        },
        "id": "1gbMaJPIlrgk",
        "outputId": "7aa0392e-09e5-4391-a646-de4796cba08b"
      },
      "execution_count": null,
      "outputs": [
        {
          "output_type": "stream",
          "name": "stdout",
          "text": [
            "[[0.18314713]]\n"
          ]
        }
      ]
    },
    {
      "cell_type": "code",
      "source": [
        "import nltk\n",
        "nltk.download('punkt')\n",
        "from nltk.util import ngrams"
      ],
      "metadata": {
        "colab": {
          "base_uri": "https://localhost:8080/"
        },
        "id": "lA6dT-xWjmrE",
        "outputId": "88dde71c-2ace-4037-a77d-a290df4e9929"
      },
      "execution_count": null,
      "outputs": [
        {
          "output_type": "stream",
          "name": "stderr",
          "text": [
            "[nltk_data] Downloading package punkt to /root/nltk_data...\n",
            "[nltk_data]   Package punkt is already up-to-date!\n"
          ]
        }
      ]
    },
    {
      "cell_type": "code",
      "source": [
        "s=df['Sentences'][0]\n",
        "ng=ngrams(sequence=nltk.word_tokenize(s),n=2)\n",
        "for i in ng:\n",
        "  print(i)"
      ],
      "metadata": {
        "colab": {
          "base_uri": "https://localhost:8080/"
        },
        "id": "MoljaXFIjoi0",
        "outputId": "027eed19-5289-4ff4-fea9-aa520265ac79"
      },
      "execution_count": null,
      "outputs": [
        {
          "output_type": "stream",
          "name": "stdout",
          "text": [
            "('The', 'Sun')\n",
            "('Sun', 'is')\n",
            "('is', 'the')\n",
            "('the', 'largest')\n",
            "('largest', 'celestial')\n",
            "('celestial', 'body')\n",
            "('body', 'in')\n",
            "('in', 'the')\n",
            "('the', 'solar')\n",
            "('solar', 'system')\n"
          ]
        }
      ]
    }
  ]
}