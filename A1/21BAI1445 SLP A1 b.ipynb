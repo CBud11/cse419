{
  "nbformat": 4,
  "nbformat_minor": 0,
  "metadata": {
    "colab": {
      "provenance": []
    },
    "kernelspec": {
      "name": "python3",
      "display_name": "Python 3"
    },
    "language_info": {
      "name": "python"
    }
  },
  "cells": [
    {
      "cell_type": "markdown",
      "source": [
        "Importing datatset"
      ],
      "metadata": {
        "id": "NnFZoaSrU5Zq"
      }
    },
    {
      "cell_type": "code",
      "execution_count": null,
      "metadata": {
        "id": "T3yYlCa_UG_u",
        "colab": {
          "base_uri": "https://localhost:8080/"
        },
        "outputId": "dc8b2af9-53e0-4e0c-855b-d1ac1dc57abb"
      },
      "outputs": [
        {
          "output_type": "stream",
          "name": "stdout",
          "text": [
            "     v1                                                 v2 Unnamed: 2  \\\n",
            "0   ham  Go until jurong point, crazy.. Available only ...        NaN   \n",
            "1   ham                      Ok lar... Joking wif u oni...        NaN   \n",
            "2  spam  Free entry in 2 a wkly comp to win FA Cup fina...        NaN   \n",
            "3   ham  U dun say so early hor... U c already then say...        NaN   \n",
            "4   ham  Nah I don't think he goes to usf, he lives aro...        NaN   \n",
            "\n",
            "  Unnamed: 3 Unnamed: 4  \n",
            "0        NaN        NaN  \n",
            "1        NaN        NaN  \n",
            "2        NaN        NaN  \n",
            "3        NaN        NaN  \n",
            "4        NaN        NaN  \n"
          ]
        }
      ],
      "source": [
        "import pandas as pd\n",
        "d=pd.read_csv('/content/spam.csv',encoding='latin-1')\n",
        "print(d.head())"
      ]
    },
    {
      "cell_type": "code",
      "source": [
        "pd.set_option('display.max_colwidth',1)\n",
        "d=d[['v1','v2']]\n",
        "print(d.head())"
      ],
      "metadata": {
        "colab": {
          "base_uri": "https://localhost:8080/"
        },
        "id": "ZESgDT1qVVBO",
        "outputId": "77ab71ce-881b-40b6-e43c-0f70fb46568c"
      },
      "execution_count": null,
      "outputs": [
        {
          "output_type": "stream",
          "name": "stdout",
          "text": [
            "     v1  \\\n",
            "0  ham    \n",
            "1  ham    \n",
            "2  spam   \n",
            "3  ham    \n",
            "4  ham    \n",
            "\n",
            "                                                                                                                                                            v2  \n",
            "0  Go until jurong point, crazy.. Available only in bugis n great world la e buffet... Cine there got amore wat...                                              \n",
            "1  Ok lar... Joking wif u oni...                                                                                                                                \n",
            "2  Free entry in 2 a wkly comp to win FA Cup final tkts 21st May 2005. Text FA to 87121 to receive entry question(std txt rate)T&C's apply 08452810075over18's  \n",
            "3  U dun say so early hor... U c already then say...                                                                                                            \n",
            "4  Nah I don't think he goes to usf, he lives around here though                                                                                                \n"
          ]
        }
      ]
    },
    {
      "cell_type": "code",
      "source": [
        "print(d['v1'].value_counts())"
      ],
      "metadata": {
        "colab": {
          "base_uri": "https://localhost:8080/"
        },
        "id": "Thl9b3TiXOGy",
        "outputId": "1bc4fa30-90a0-4c6b-fa1d-026b213eb97e"
      },
      "execution_count": null,
      "outputs": [
        {
          "output_type": "stream",
          "name": "stdout",
          "text": [
            "v1\n",
            "ham     4825\n",
            "spam    747 \n",
            "Name: count, dtype: int64\n"
          ]
        }
      ]
    },
    {
      "cell_type": "markdown",
      "source": [
        "Cleaning Punctuations"
      ],
      "metadata": {
        "id": "g3XTbXaLXfox"
      }
    },
    {
      "cell_type": "code",
      "source": [
        "import string\n",
        "string.punctuation\n",
        "\n",
        "def re_punctuatuion(text):\n",
        "  p=\"\".join([char for char in text if char not in string.punctuation])\n",
        "  return p"
      ],
      "metadata": {
        "id": "P3WbTZnJXebS"
      },
      "execution_count": null,
      "outputs": []
    },
    {
      "cell_type": "code",
      "source": [
        "d['a']=d['v2'].apply(lambda x:re_punctuatuion(x))\n",
        "print(d.head())"
      ],
      "metadata": {
        "colab": {
          "base_uri": "https://localhost:8080/"
        },
        "id": "jGt6CM21YftK",
        "outputId": "6052964e-07e0-4511-8e68-779f73165a67"
      },
      "execution_count": null,
      "outputs": [
        {
          "output_type": "stream",
          "name": "stdout",
          "text": [
            "     v1  \\\n",
            "0  ham    \n",
            "1  ham    \n",
            "2  spam   \n",
            "3  ham    \n",
            "4  ham    \n",
            "\n",
            "                                                                                                                                                            v2  \\\n",
            "0  Go until jurong point, crazy.. Available only in bugis n great world la e buffet... Cine there got amore wat...                                               \n",
            "1  Ok lar... Joking wif u oni...                                                                                                                                 \n",
            "2  Free entry in 2 a wkly comp to win FA Cup final tkts 21st May 2005. Text FA to 87121 to receive entry question(std txt rate)T&C's apply 08452810075over18's   \n",
            "3  U dun say so early hor... U c already then say...                                                                                                             \n",
            "4  Nah I don't think he goes to usf, he lives around here though                                                                                                 \n",
            "\n",
            "                                                                                                                                                       a  \n",
            "0  Go until jurong point crazy Available only in bugis n great world la e buffet Cine there got amore wat                                                 \n",
            "1  Ok lar Joking wif u oni                                                                                                                                \n",
            "2  Free entry in 2 a wkly comp to win FA Cup final tkts 21st May 2005 Text FA to 87121 to receive entry questionstd txt rateTCs apply 08452810075over18s  \n",
            "3  U dun say so early hor U c already then say                                                                                                            \n",
            "4  Nah I dont think he goes to usf he lives around here though                                                                                            \n"
          ]
        }
      ]
    },
    {
      "cell_type": "code",
      "source": [
        "d['l']=d['a'].apply(lambda x:x.lower())\n",
        "print(d.head())"
      ],
      "metadata": {
        "colab": {
          "base_uri": "https://localhost:8080/"
        },
        "id": "FtYg0YUSZcya",
        "outputId": "b2a988c9-28de-4564-9285-df08c9007f7e"
      },
      "execution_count": null,
      "outputs": [
        {
          "output_type": "stream",
          "name": "stdout",
          "text": [
            "     v1  \\\n",
            "0  ham    \n",
            "1  ham    \n",
            "2  spam   \n",
            "3  ham    \n",
            "4  ham    \n",
            "\n",
            "                                                                                                                                                            v2  \\\n",
            "0  Go until jurong point, crazy.. Available only in bugis n great world la e buffet... Cine there got amore wat...                                               \n",
            "1  Ok lar... Joking wif u oni...                                                                                                                                 \n",
            "2  Free entry in 2 a wkly comp to win FA Cup final tkts 21st May 2005. Text FA to 87121 to receive entry question(std txt rate)T&C's apply 08452810075over18's   \n",
            "3  U dun say so early hor... U c already then say...                                                                                                             \n",
            "4  Nah I don't think he goes to usf, he lives around here though                                                                                                 \n",
            "\n",
            "                                                                                                                                                       a  \\\n",
            "0  Go until jurong point crazy Available only in bugis n great world la e buffet Cine there got amore wat                                                  \n",
            "1  Ok lar Joking wif u oni                                                                                                                                 \n",
            "2  Free entry in 2 a wkly comp to win FA Cup final tkts 21st May 2005 Text FA to 87121 to receive entry questionstd txt rateTCs apply 08452810075over18s   \n",
            "3  U dun say so early hor U c already then say                                                                                                             \n",
            "4  Nah I dont think he goes to usf he lives around here though                                                                                             \n",
            "\n",
            "                                                                                                                                                       l  \n",
            "0  go until jurong point crazy available only in bugis n great world la e buffet cine there got amore wat                                                 \n",
            "1  ok lar joking wif u oni                                                                                                                                \n",
            "2  free entry in 2 a wkly comp to win fa cup final tkts 21st may 2005 text fa to 87121 to receive entry questionstd txt ratetcs apply 08452810075over18s  \n",
            "3  u dun say so early hor u c already then say                                                                                                            \n",
            "4  nah i dont think he goes to usf he lives around here though                                                                                            \n"
          ]
        }
      ]
    },
    {
      "cell_type": "markdown",
      "source": [
        "Tokenization"
      ],
      "metadata": {
        "id": "Chj9nul1aFZS"
      }
    },
    {
      "cell_type": "code",
      "source": [
        "import re\n",
        "def token(text):\n",
        "  token=re.split('\\W+',text)\n",
        "  return token"
      ],
      "metadata": {
        "id": "tY5pOzxGZ6YS"
      },
      "execution_count": null,
      "outputs": []
    },
    {
      "cell_type": "code",
      "source": [
        "d['token']=d['l'].apply(lambda x:token(x))\n",
        "print(d.head())"
      ],
      "metadata": {
        "colab": {
          "base_uri": "https://localhost:8080/"
        },
        "id": "A9BCRRNgaEcB",
        "outputId": "0cb10295-119e-45c8-833a-fee28e6af609"
      },
      "execution_count": null,
      "outputs": [
        {
          "output_type": "stream",
          "name": "stdout",
          "text": [
            "     v1  \\\n",
            "0  ham    \n",
            "1  ham    \n",
            "2  spam   \n",
            "3  ham    \n",
            "4  ham    \n",
            "\n",
            "                                                                                                                                                            v2  \\\n",
            "0  Go until jurong point, crazy.. Available only in bugis n great world la e buffet... Cine there got amore wat...                                               \n",
            "1  Ok lar... Joking wif u oni...                                                                                                                                 \n",
            "2  Free entry in 2 a wkly comp to win FA Cup final tkts 21st May 2005. Text FA to 87121 to receive entry question(std txt rate)T&C's apply 08452810075over18's   \n",
            "3  U dun say so early hor... U c already then say...                                                                                                             \n",
            "4  Nah I don't think he goes to usf, he lives around here though                                                                                                 \n",
            "\n",
            "                                                                                                                                                       a  \\\n",
            "0  Go until jurong point crazy Available only in bugis n great world la e buffet Cine there got amore wat                                                  \n",
            "1  Ok lar Joking wif u oni                                                                                                                                 \n",
            "2  Free entry in 2 a wkly comp to win FA Cup final tkts 21st May 2005 Text FA to 87121 to receive entry questionstd txt rateTCs apply 08452810075over18s   \n",
            "3  U dun say so early hor U c already then say                                                                                                             \n",
            "4  Nah I dont think he goes to usf he lives around here though                                                                                             \n",
            "\n",
            "                                                                                                                                                       l  \\\n",
            "0  go until jurong point crazy available only in bugis n great world la e buffet cine there got amore wat                                                  \n",
            "1  ok lar joking wif u oni                                                                                                                                 \n",
            "2  free entry in 2 a wkly comp to win fa cup final tkts 21st may 2005 text fa to 87121 to receive entry questionstd txt ratetcs apply 08452810075over18s   \n",
            "3  u dun say so early hor u c already then say                                                                                                             \n",
            "4  nah i dont think he goes to usf he lives around here though                                                                                             \n",
            "\n",
            "                                                                                                                                                                                token  \n",
            "0  [go, until, jurong, point, crazy, available, only, in, bugis, n, great, world, la, e, buffet, cine, there, got, amore, wat]                                                         \n",
            "1  [ok, lar, joking, wif, u, oni]                                                                                                                                                      \n",
            "2  [free, entry, in, 2, a, wkly, comp, to, win, fa, cup, final, tkts, 21st, may, 2005, text, fa, to, 87121, to, receive, entry, questionstd, txt, ratetcs, apply, 08452810075over18s]  \n",
            "3  [u, dun, say, so, early, hor, u, c, already, then, say]                                                                                                                             \n",
            "4  [nah, i, dont, think, he, goes, to, usf, he, lives, around, here, though]                                                                                                           \n"
          ]
        }
      ]
    },
    {
      "cell_type": "markdown",
      "source": [
        "Removing Stop words"
      ],
      "metadata": {
        "id": "RCVT7ix5bQHZ"
      }
    },
    {
      "cell_type": "code",
      "source": [
        "import nltk\n",
        "nltk.download('stopwords')\n",
        "sw=nltk.corpus.stopwords.words('english')\n",
        "print(sw[0:10])"
      ],
      "metadata": {
        "colab": {
          "base_uri": "https://localhost:8080/"
        },
        "id": "InjRUqcbbMSq",
        "outputId": "6932cda4-8951-4487-feed-7b3d7fa65d41"
      },
      "execution_count": null,
      "outputs": [
        {
          "output_type": "stream",
          "name": "stdout",
          "text": [
            "['i', 'me', 'my', 'myself', 'we', 'our', 'ours', 'ourselves', 'you', \"you're\"]\n"
          ]
        },
        {
          "output_type": "stream",
          "name": "stderr",
          "text": [
            "[nltk_data] Downloading package stopwords to /root/nltk_data...\n",
            "[nltk_data]   Package stopwords is already up-to-date!\n"
          ]
        }
      ]
    },
    {
      "cell_type": "code",
      "source": [
        "def stw(text):\n",
        "  stw=[word for word in text if word not in sw]\n",
        "  return stw"
      ],
      "metadata": {
        "id": "ize67n22buFZ"
      },
      "execution_count": null,
      "outputs": []
    },
    {
      "cell_type": "code",
      "source": [
        "d['stw']=d['token'].apply(lambda x:stw(x))\n",
        "print(d.head())"
      ],
      "metadata": {
        "colab": {
          "base_uri": "https://localhost:8080/"
        },
        "id": "lQiPVl-Fb5Li",
        "outputId": "6a247504-6b95-428d-e82d-f835c6eb352f"
      },
      "execution_count": null,
      "outputs": [
        {
          "output_type": "stream",
          "name": "stdout",
          "text": [
            "     v1  \\\n",
            "0  ham    \n",
            "1  ham    \n",
            "2  spam   \n",
            "3  ham    \n",
            "4  ham    \n",
            "\n",
            "                                                                                                                                                            v2  \\\n",
            "0  Go until jurong point, crazy.. Available only in bugis n great world la e buffet... Cine there got amore wat...                                               \n",
            "1  Ok lar... Joking wif u oni...                                                                                                                                 \n",
            "2  Free entry in 2 a wkly comp to win FA Cup final tkts 21st May 2005. Text FA to 87121 to receive entry question(std txt rate)T&C's apply 08452810075over18's   \n",
            "3  U dun say so early hor... U c already then say...                                                                                                             \n",
            "4  Nah I don't think he goes to usf, he lives around here though                                                                                                 \n",
            "\n",
            "                                                                                                                                                       a  \\\n",
            "0  Go until jurong point crazy Available only in bugis n great world la e buffet Cine there got amore wat                                                  \n",
            "1  Ok lar Joking wif u oni                                                                                                                                 \n",
            "2  Free entry in 2 a wkly comp to win FA Cup final tkts 21st May 2005 Text FA to 87121 to receive entry questionstd txt rateTCs apply 08452810075over18s   \n",
            "3  U dun say so early hor U c already then say                                                                                                             \n",
            "4  Nah I dont think he goes to usf he lives around here though                                                                                             \n",
            "\n",
            "                                                                                                                                                       l  \\\n",
            "0  go until jurong point crazy available only in bugis n great world la e buffet cine there got amore wat                                                  \n",
            "1  ok lar joking wif u oni                                                                                                                                 \n",
            "2  free entry in 2 a wkly comp to win fa cup final tkts 21st may 2005 text fa to 87121 to receive entry questionstd txt ratetcs apply 08452810075over18s   \n",
            "3  u dun say so early hor u c already then say                                                                                                             \n",
            "4  nah i dont think he goes to usf he lives around here though                                                                                             \n",
            "\n",
            "                                                                                                                                                                                token  \\\n",
            "0  [go, until, jurong, point, crazy, available, only, in, bugis, n, great, world, la, e, buffet, cine, there, got, amore, wat]                                                          \n",
            "1  [ok, lar, joking, wif, u, oni]                                                                                                                                                       \n",
            "2  [free, entry, in, 2, a, wkly, comp, to, win, fa, cup, final, tkts, 21st, may, 2005, text, fa, to, 87121, to, receive, entry, questionstd, txt, ratetcs, apply, 08452810075over18s]   \n",
            "3  [u, dun, say, so, early, hor, u, c, already, then, say]                                                                                                                              \n",
            "4  [nah, i, dont, think, he, goes, to, usf, he, lives, around, here, though]                                                                                                            \n",
            "\n",
            "                                                                                                                                                               stw  \n",
            "0  [go, jurong, point, crazy, available, bugis, n, great, world, la, e, buffet, cine, got, amore, wat]                                                              \n",
            "1  [ok, lar, joking, wif, u, oni]                                                                                                                                   \n",
            "2  [free, entry, 2, wkly, comp, win, fa, cup, final, tkts, 21st, may, 2005, text, fa, 87121, receive, entry, questionstd, txt, ratetcs, apply, 08452810075over18s]  \n",
            "3  [u, dun, say, early, hor, u, c, already, say]                                                                                                                    \n",
            "4  [nah, dont, think, goes, usf, lives, around, though]                                                                                                             \n"
          ]
        }
      ]
    },
    {
      "cell_type": "markdown",
      "source": [
        "Apply Stemming"
      ],
      "metadata": {
        "id": "4Wt7CDiScshz"
      }
    },
    {
      "cell_type": "code",
      "source": [
        "from nltk.stem.porter import PorterStemmer\n",
        "ps=PorterStemmer()\n",
        "\n",
        "# Updated stemming function to return a string\n",
        "def stemming(text):\n",
        "  stem=' '.join([ps.stem(word) for word in text])\n",
        "  return stem"
      ],
      "metadata": {
        "id": "lYR5Wqhvcymq"
      },
      "execution_count": null,
      "outputs": []
    },
    {
      "cell_type": "code",
      "source": [
        "d['stem']=d['stw'].apply(lambda x:stemming(x))\n",
        "print(d.head())"
      ],
      "metadata": {
        "colab": {
          "base_uri": "https://localhost:8080/"
        },
        "id": "NOUA6B9mdNyS",
        "outputId": "a6c4e18b-fe4e-488a-9a01-7b6cb735f307"
      },
      "execution_count": null,
      "outputs": [
        {
          "output_type": "stream",
          "name": "stdout",
          "text": [
            "     v1  \\\n",
            "0  ham    \n",
            "1  ham    \n",
            "2  spam   \n",
            "3  ham    \n",
            "4  ham    \n",
            "\n",
            "                                                                                                                                                            v2  \\\n",
            "0  Go until jurong point, crazy.. Available only in bugis n great world la e buffet... Cine there got amore wat...                                               \n",
            "1  Ok lar... Joking wif u oni...                                                                                                                                 \n",
            "2  Free entry in 2 a wkly comp to win FA Cup final tkts 21st May 2005. Text FA to 87121 to receive entry question(std txt rate)T&C's apply 08452810075over18's   \n",
            "3  U dun say so early hor... U c already then say...                                                                                                             \n",
            "4  Nah I don't think he goes to usf, he lives around here though                                                                                                 \n",
            "\n",
            "                                                                                                                                                       a  \\\n",
            "0  Go until jurong point crazy Available only in bugis n great world la e buffet Cine there got amore wat                                                  \n",
            "1  Ok lar Joking wif u oni                                                                                                                                 \n",
            "2  Free entry in 2 a wkly comp to win FA Cup final tkts 21st May 2005 Text FA to 87121 to receive entry questionstd txt rateTCs apply 08452810075over18s   \n",
            "3  U dun say so early hor U c already then say                                                                                                             \n",
            "4  Nah I dont think he goes to usf he lives around here though                                                                                             \n",
            "\n",
            "                                                                                                                                                       l  \\\n",
            "0  go until jurong point crazy available only in bugis n great world la e buffet cine there got amore wat                                                  \n",
            "1  ok lar joking wif u oni                                                                                                                                 \n",
            "2  free entry in 2 a wkly comp to win fa cup final tkts 21st may 2005 text fa to 87121 to receive entry questionstd txt ratetcs apply 08452810075over18s   \n",
            "3  u dun say so early hor u c already then say                                                                                                             \n",
            "4  nah i dont think he goes to usf he lives around here though                                                                                             \n",
            "\n",
            "                                                                                                                                                                                token  \\\n",
            "0  [go, until, jurong, point, crazy, available, only, in, bugis, n, great, world, la, e, buffet, cine, there, got, amore, wat]                                                          \n",
            "1  [ok, lar, joking, wif, u, oni]                                                                                                                                                       \n",
            "2  [free, entry, in, 2, a, wkly, comp, to, win, fa, cup, final, tkts, 21st, may, 2005, text, fa, to, 87121, to, receive, entry, questionstd, txt, ratetcs, apply, 08452810075over18s]   \n",
            "3  [u, dun, say, so, early, hor, u, c, already, then, say]                                                                                                                              \n",
            "4  [nah, i, dont, think, he, goes, to, usf, he, lives, around, here, though]                                                                                                            \n",
            "\n",
            "                                                                                                                                                               stw  \\\n",
            "0  [go, jurong, point, crazy, available, bugis, n, great, world, la, e, buffet, cine, got, amore, wat]                                                               \n",
            "1  [ok, lar, joking, wif, u, oni]                                                                                                                                    \n",
            "2  [free, entry, 2, wkly, comp, win, fa, cup, final, tkts, 21st, may, 2005, text, fa, 87121, receive, entry, questionstd, txt, ratetcs, apply, 08452810075over18s]   \n",
            "3  [u, dun, say, early, hor, u, c, already, say]                                                                                                                     \n",
            "4  [nah, dont, think, goes, usf, lives, around, though]                                                                                                              \n",
            "\n",
            "                                                                                                                                  stem  \n",
            "0  go jurong point crazi avail bugi n great world la e buffet cine got amor wat                                                         \n",
            "1  ok lar joke wif u oni                                                                                                                \n",
            "2  free entri 2 wkli comp win fa cup final tkt 21st may 2005 text fa 87121 receiv entri questionstd txt ratetc appli 08452810075over18  \n",
            "3  u dun say earli hor u c alreadi say                                                                                                  \n",
            "4  nah dont think goe usf live around though                                                                                            \n"
          ]
        }
      ]
    },
    {
      "cell_type": "markdown",
      "source": [
        "Applying ML model"
      ],
      "metadata": {
        "id": "5SMF_VWseGmK"
      }
    },
    {
      "cell_type": "code",
      "source": [
        "from sklearn.model_selection import train_test_split\n",
        "from sklearn.feature_extraction.text import CountVectorizer,TfidfVectorizer\n",
        "from sklearn.naive_bayes import MultinomialNB\n",
        "from sklearn.metrics import classification_report"
      ],
      "metadata": {
        "id": "lBKtX7EweLzi"
      },
      "execution_count": null,
      "outputs": []
    },
    {
      "cell_type": "code",
      "source": [
        "t=d['stem'].values\n",
        "l=d['v1'].values\n",
        "tr_d,tt_d,tr_l,tt_l=train_test_split(t,l,test_size=0.2)\n",
        "\n",
        "fe=CountVectorizer()\n",
        "fe_tr=fe.fit_transform(tr_d)\n",
        "fe_tt=fe.transform(tt_d)\n",
        "\n",
        "S=MultinomialNB()\n",
        "S.fit(fe_tr,tr_l)\n",
        "\n",
        "p=S.predict(fe_tt)\n",
        "\n",
        "print(classification_report(tt_l,p))\n"
      ],
      "metadata": {
        "colab": {
          "base_uri": "https://localhost:8080/"
        },
        "id": "AWkYlZLWeMxS",
        "outputId": "b6e0b4d6-e623-4267-e4f7-a5893fbec8ad"
      },
      "execution_count": null,
      "outputs": [
        {
          "output_type": "stream",
          "name": "stdout",
          "text": [
            "              precision    recall  f1-score   support\n",
            "\n",
            "         ham       0.99      1.00      0.99       975\n",
            "        spam       0.97      0.91      0.94       140\n",
            "\n",
            "    accuracy                           0.98      1115\n",
            "   macro avg       0.98      0.95      0.96      1115\n",
            "weighted avg       0.98      0.98      0.98      1115\n",
            "\n"
          ]
        }
      ]
    }
  ]
}